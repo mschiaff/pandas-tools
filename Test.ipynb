{
 "metadata": {
  "language_info": {
   "codemirror_mode": {
    "name": "ipython",
    "version": 3
   },
   "file_extension": ".py",
   "mimetype": "text/x-python",
   "name": "python",
   "nbconvert_exporter": "python",
   "pygments_lexer": "ipython3",
   "version": "3.8.6-final"
  },
  "orig_nbformat": 2,
  "kernelspec": {
   "name": "python3",
   "display_name": "Python 3.8.6 64-bit",
   "metadata": {
    "interpreter": {
     "hash": "ec9698a92ff1400650461452400aeb97cd496b31397cd0013f9cae6d0a520493"
    }
   }
  }
 },
 "nbformat": 4,
 "nbformat_minor": 2,
 "cells": [
  {
   "source": [
    "# Pruebas módulo Rut.py"
   ],
   "cell_type": "markdown",
   "metadata": {}
  },
  {
   "cell_type": "code",
   "execution_count": 1,
   "metadata": {},
   "outputs": [],
   "source": [
    "from pandas import DataFrame\n",
    "from Rut import calc_dv, get_dv\n",
    "\n",
    "df = DataFrame({\"ruts\": [15478221, 8744183, 21794543, 1445, 123]})"
   ]
  },
  {
   "cell_type": "code",
   "execution_count": 2,
   "metadata": {},
   "outputs": [
    {
     "output_type": "execute_result",
     "data": {
      "text/plain": [
       "4"
      ]
     },
     "metadata": {},
     "execution_count": 2
    }
   ],
   "source": [
    "calc_dv(15478221)"
   ]
  },
  {
   "cell_type": "code",
   "execution_count": 3,
   "metadata": {},
   "outputs": [
    {
     "output_type": "execute_result",
     "data": {
      "text/plain": [
       "0"
      ]
     },
     "metadata": {},
     "execution_count": 3
    }
   ],
   "source": [
    "calc_dv(\"8744183\")"
   ]
  },
  {
   "cell_type": "code",
   "execution_count": 4,
   "metadata": {},
   "outputs": [
    {
     "output_type": "execute_result",
     "data": {
      "text/plain": [
       "       ruts  dv\n",
       "0  15478221   4\n",
       "1   8744183   0\n",
       "2  21794543   7\n",
       "3      1445   1\n",
       "4       123   6"
      ],
      "text/html": "<div>\n<style scoped>\n    .dataframe tbody tr th:only-of-type {\n        vertical-align: middle;\n    }\n\n    .dataframe tbody tr th {\n        vertical-align: top;\n    }\n\n    .dataframe thead th {\n        text-align: right;\n    }\n</style>\n<table border=\"1\" class=\"dataframe\">\n  <thead>\n    <tr style=\"text-align: right;\">\n      <th></th>\n      <th>ruts</th>\n      <th>dv</th>\n    </tr>\n  </thead>\n  <tbody>\n    <tr>\n      <th>0</th>\n      <td>15478221</td>\n      <td>4</td>\n    </tr>\n    <tr>\n      <th>1</th>\n      <td>8744183</td>\n      <td>0</td>\n    </tr>\n    <tr>\n      <th>2</th>\n      <td>21794543</td>\n      <td>7</td>\n    </tr>\n    <tr>\n      <th>3</th>\n      <td>1445</td>\n      <td>1</td>\n    </tr>\n    <tr>\n      <th>4</th>\n      <td>123</td>\n      <td>6</td>\n    </tr>\n  </tbody>\n</table>\n</div>"
     },
     "metadata": {},
     "execution_count": 4
    }
   ],
   "source": [
    "get_dv(df, \"ruts\", \"dv\")"
   ]
  },
  {
   "cell_type": "code",
   "execution_count": 5,
   "metadata": {},
   "outputs": [
    {
     "output_type": "execute_result",
     "data": {
      "text/plain": [
       "       ruts  dv      RUT_DV\n",
       "0  15478221   4  15478221-4\n",
       "1   8744183   0   8744183-0\n",
       "2  21794543   7  21794543-7\n",
       "3      1445   1      1445-1\n",
       "4       123   6       123-6"
      ],
      "text/html": "<div>\n<style scoped>\n    .dataframe tbody tr th:only-of-type {\n        vertical-align: middle;\n    }\n\n    .dataframe tbody tr th {\n        vertical-align: top;\n    }\n\n    .dataframe thead th {\n        text-align: right;\n    }\n</style>\n<table border=\"1\" class=\"dataframe\">\n  <thead>\n    <tr style=\"text-align: right;\">\n      <th></th>\n      <th>ruts</th>\n      <th>dv</th>\n      <th>RUT_DV</th>\n    </tr>\n  </thead>\n  <tbody>\n    <tr>\n      <th>0</th>\n      <td>15478221</td>\n      <td>4</td>\n      <td>15478221-4</td>\n    </tr>\n    <tr>\n      <th>1</th>\n      <td>8744183</td>\n      <td>0</td>\n      <td>8744183-0</td>\n    </tr>\n    <tr>\n      <th>2</th>\n      <td>21794543</td>\n      <td>7</td>\n      <td>21794543-7</td>\n    </tr>\n    <tr>\n      <th>3</th>\n      <td>1445</td>\n      <td>1</td>\n      <td>1445-1</td>\n    </tr>\n    <tr>\n      <th>4</th>\n      <td>123</td>\n      <td>6</td>\n      <td>123-6</td>\n    </tr>\n  </tbody>\n</table>\n</div>"
     },
     "metadata": {},
     "execution_count": 5
    }
   ],
   "source": [
    "get_dv(df=df, rut_fname=\"ruts\", dv_fname=\"dv\", rut_dv=True, zero_filled=False, with_dot=False)"
   ]
  },
  {
   "cell_type": "code",
   "execution_count": 6,
   "metadata": {},
   "outputs": [
    {
     "output_type": "execute_result",
     "data": {
      "text/plain": [
       "       ruts  dv      RUT_DV\n",
       "0  15478221   4  15478221-4\n",
       "1   8744183   0  08744183-0\n",
       "2  21794543   7  21794543-7\n",
       "3      1445   1  00001445-1\n",
       "4       123   6  00000123-6"
      ],
      "text/html": "<div>\n<style scoped>\n    .dataframe tbody tr th:only-of-type {\n        vertical-align: middle;\n    }\n\n    .dataframe tbody tr th {\n        vertical-align: top;\n    }\n\n    .dataframe thead th {\n        text-align: right;\n    }\n</style>\n<table border=\"1\" class=\"dataframe\">\n  <thead>\n    <tr style=\"text-align: right;\">\n      <th></th>\n      <th>ruts</th>\n      <th>dv</th>\n      <th>RUT_DV</th>\n    </tr>\n  </thead>\n  <tbody>\n    <tr>\n      <th>0</th>\n      <td>15478221</td>\n      <td>4</td>\n      <td>15478221-4</td>\n    </tr>\n    <tr>\n      <th>1</th>\n      <td>8744183</td>\n      <td>0</td>\n      <td>08744183-0</td>\n    </tr>\n    <tr>\n      <th>2</th>\n      <td>21794543</td>\n      <td>7</td>\n      <td>21794543-7</td>\n    </tr>\n    <tr>\n      <th>3</th>\n      <td>1445</td>\n      <td>1</td>\n      <td>00001445-1</td>\n    </tr>\n    <tr>\n      <th>4</th>\n      <td>123</td>\n      <td>6</td>\n      <td>00000123-6</td>\n    </tr>\n  </tbody>\n</table>\n</div>"
     },
     "metadata": {},
     "execution_count": 6
    }
   ],
   "source": [
    "get_dv(df=df, rut_fname=\"ruts\", dv_fname=\"dv\", rut_dv=True, zero_filled=True, with_dot=False)"
   ]
  },
  {
   "cell_type": "code",
   "execution_count": 7,
   "metadata": {},
   "outputs": [
    {
     "output_type": "execute_result",
     "data": {
      "text/plain": [
       "       ruts  dv        RUT_DV\n",
       "0  15478221   4  15.478.221-4\n",
       "1   8744183   0  08.744.183-0\n",
       "2  21794543   7  21.794.543-7\n",
       "3      1445   1  00.001.445-1\n",
       "4       123   6  00.000.123-6"
      ],
      "text/html": "<div>\n<style scoped>\n    .dataframe tbody tr th:only-of-type {\n        vertical-align: middle;\n    }\n\n    .dataframe tbody tr th {\n        vertical-align: top;\n    }\n\n    .dataframe thead th {\n        text-align: right;\n    }\n</style>\n<table border=\"1\" class=\"dataframe\">\n  <thead>\n    <tr style=\"text-align: right;\">\n      <th></th>\n      <th>ruts</th>\n      <th>dv</th>\n      <th>RUT_DV</th>\n    </tr>\n  </thead>\n  <tbody>\n    <tr>\n      <th>0</th>\n      <td>15478221</td>\n      <td>4</td>\n      <td>15.478.221-4</td>\n    </tr>\n    <tr>\n      <th>1</th>\n      <td>8744183</td>\n      <td>0</td>\n      <td>08.744.183-0</td>\n    </tr>\n    <tr>\n      <th>2</th>\n      <td>21794543</td>\n      <td>7</td>\n      <td>21.794.543-7</td>\n    </tr>\n    <tr>\n      <th>3</th>\n      <td>1445</td>\n      <td>1</td>\n      <td>00.001.445-1</td>\n    </tr>\n    <tr>\n      <th>4</th>\n      <td>123</td>\n      <td>6</td>\n      <td>00.000.123-6</td>\n    </tr>\n  </tbody>\n</table>\n</div>"
     },
     "metadata": {},
     "execution_count": 7
    }
   ],
   "source": [
    "get_dv(df=df, rut_fname=\"ruts\", dv_fname=\"dv\", rut_dv=True, zero_filled=True, with_dot=True)"
   ]
  },
  {
   "cell_type": "code",
   "execution_count": 8,
   "metadata": {},
   "outputs": [
    {
     "output_type": "execute_result",
     "data": {
      "text/plain": [
       "       ruts  dv        RUT_DV\n",
       "0  15478221   4  15.478.221-4\n",
       "1   8744183   0   8.744.183-0\n",
       "2  21794543   7  21.794.543-7\n",
       "3      1445   1       1.445-1\n",
       "4       123   6         123-6"
      ],
      "text/html": "<div>\n<style scoped>\n    .dataframe tbody tr th:only-of-type {\n        vertical-align: middle;\n    }\n\n    .dataframe tbody tr th {\n        vertical-align: top;\n    }\n\n    .dataframe thead th {\n        text-align: right;\n    }\n</style>\n<table border=\"1\" class=\"dataframe\">\n  <thead>\n    <tr style=\"text-align: right;\">\n      <th></th>\n      <th>ruts</th>\n      <th>dv</th>\n      <th>RUT_DV</th>\n    </tr>\n  </thead>\n  <tbody>\n    <tr>\n      <th>0</th>\n      <td>15478221</td>\n      <td>4</td>\n      <td>15.478.221-4</td>\n    </tr>\n    <tr>\n      <th>1</th>\n      <td>8744183</td>\n      <td>0</td>\n      <td>8.744.183-0</td>\n    </tr>\n    <tr>\n      <th>2</th>\n      <td>21794543</td>\n      <td>7</td>\n      <td>21.794.543-7</td>\n    </tr>\n    <tr>\n      <th>3</th>\n      <td>1445</td>\n      <td>1</td>\n      <td>1.445-1</td>\n    </tr>\n    <tr>\n      <th>4</th>\n      <td>123</td>\n      <td>6</td>\n      <td>123-6</td>\n    </tr>\n  </tbody>\n</table>\n</div>"
     },
     "metadata": {},
     "execution_count": 8
    }
   ],
   "source": [
    "get_dv(df=df, rut_fname=\"ruts\", dv_fname=\"dv\", rut_dv=True, zero_filled=False, with_dot=True)"
   ]
  },
  {
   "source": [
    "# Pruebas módulo Indicadores.py"
   ],
   "cell_type": "markdown",
   "metadata": {}
  }
 ]
}